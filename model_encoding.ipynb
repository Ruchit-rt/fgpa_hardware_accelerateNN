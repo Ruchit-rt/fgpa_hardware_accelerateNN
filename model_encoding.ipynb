{
 "cells": [
  {
   "cell_type": "code",
   "execution_count": 1,
   "id": "ea0231e7-59e0-4061-b31c-c33bc9630309",
   "metadata": {},
   "outputs": [
    {
     "name": "stdout",
     "output_type": "stream",
     "text": [
      "Overwriting src/model_encoder.cpp\n"
     ]
    }
   ],
   "source": [
    "%%writefile src/model_encoder.cpp\n",
    "#include <sycl/sycl.hpp>\n",
    "\n",
    "using namespace sycl;\n",
    "\n",
    "int main() {\n",
    "  \n",
    "  queue q(gpu_selector_v);\n",
    "\n",
    "  std::cout << \"Device: \" << q.get_device().get_info<info::device::name>() << \"\\n\";\n",
    "\n",
    "  return 0;\n",
    "}"
   ]
  },
  {
   "cell_type": "code",
   "execution_count": 4,
   "id": "2350634e-b7fb-404b-bed9-37a2a603f34c",
   "metadata": {},
   "outputs": [
    {
     "name": "stdout",
     "output_type": "stream",
     "text": [
      "Job submitted\n",
      "\n",
      "Job ID                    Name             User            Time Use S Queue\n",
      "------------------------- ---------------- --------------- -------- - -----\n",
      "2296626.v-qsvr-1           public.sh        u178815         00:00:05 R batch          \n",
      "2296781.v-qsvr-1           ...ub-singleuser u178815         00:00:26 R jupyterhub     \n",
      "2296856.v-qsvr-1           run.sh           u178815                0 Q batch          \n",
      "\n",
      "Waiting for output file ............................................................\n",
      "########################################################################\n",
      "#      Date:           Wed 17 May 2023 09:42:40 AM PDT\n",
      "#    Job ID:           2296856.v-qsvr-1.aidevcloud\n",
      "#      User:           u178815\n",
      "# Resources:           cput=75:00:00,neednodes=1:gpu:ppn=2,nodes=1:gpu:ppn=2,walltime=06:00:00\n",
      "########################################################################\n",
      "\n",
      "## u178815 is compiling DPCPP_Essentials Module2 -- SYCL Program Structure sample - 1 of 7 gpu_sample.cpp\n",
      "Device: Intel(R) UHD Graphics [0x9a60]\n",
      "\n",
      "########################################################################\n",
      "# End of output for job 2296856.v-qsvr-1.aidevcloud\n",
      "# Date: Wed 17 May 2023 09:42:50 AM PDT\n",
      "########################################################################\n",
      "\n"
     ]
    }
   ],
   "source": [
    "! chmod 755 submit; chmod 755 run.sh;if [ -x \"$(command -v qsub)\" ]; then ./submit run.sh; else ./run.sh; fi"
   ]
  },
  {
   "cell_type": "code",
   "execution_count": null,
   "id": "f223d17c-0484-4c75-87a3-21cca9c879a2",
   "metadata": {},
   "outputs": [],
   "source": []
  }
 ],
 "metadata": {
  "kernelspec": {
   "display_name": "Python 3 (Intel® oneAPI 2023.1)",
   "language": "python",
   "name": "c009-intel_distribution_of_python_3_oneapi-beta05-python"
  },
  "language_info": {
   "codemirror_mode": {
    "name": "ipython",
    "version": 3
   },
   "file_extension": ".py",
   "mimetype": "text/x-python",
   "name": "python",
   "nbconvert_exporter": "python",
   "pygments_lexer": "ipython3",
   "version": "3.9.16"
  }
 },
 "nbformat": 4,
 "nbformat_minor": 5
}
